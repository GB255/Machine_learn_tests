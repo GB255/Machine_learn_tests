{
 "metadata": {
  "language_info": {
   "codemirror_mode": {
    "name": "ipython",
    "version": 3
   },
   "file_extension": ".py",
   "mimetype": "text/x-python",
   "name": "python",
   "nbconvert_exporter": "python",
   "pygments_lexer": "ipython3",
   "version": "3.9.2-final"
  },
  "orig_nbformat": 2,
  "kernelspec": {
   "name": "python3",
   "display_name": "Python 3.9.2 64-bit ('venv')",
   "metadata": {
    "interpreter": {
     "hash": "1d27da69f59c3b033d0821541b7343e3ad569a1a01cf5db752c26f8b9de6c957"
    }
   }
  }
 },
 "nbformat": 4,
 "nbformat_minor": 2,
 "cells": [
  {
   "cell_type": "code",
   "execution_count": 2,
   "metadata": {},
   "outputs": [],
   "source": [
    "import pandas as pd\n",
    "import numpy as np\n",
    "from matplotlib import pyplot as plt\n",
    "import plotly as py\n",
    "import plotly.graph_objs as go\n",
    "from sklearn.datasets import make_blobs\n",
    "from sklearn.cluster import KMeans"
   ]
  },
  {
   "cell_type": "code",
   "execution_count": 8,
   "metadata": {},
   "outputs": [
    {
     "output_type": "execute_result",
     "data": {
      "text/plain": [
       "   SextaSabado Faminto Clientes        Tipo Espera\n",
       "0          Nao     Sim    Cheio   Tailandes    Nao\n",
       "1          Sim     Nao    Cheio     Frances    Nao\n",
       "2          Nao     Nao   Nenhum    Italiano    Nao\n",
       "3          Sim     Nao    Cheio  Hamburguer    Nao\n",
       "4          Sim     Sim    Cheio     Frances    Nao\n",
       "5          Nao     Nao   Nenhum   Tailandes    Nao\n",
       "6          Sim     Sim   Alguns     Frances    Sim\n",
       "7          Nao     Nao   Alguns  Hamburguer    Sim\n",
       "8          Sim     Sim    Cheio   Tailandes    Sim\n",
       "9          Nao     Sim   Alguns    Italiano    Sim\n",
       "10         Nao     Sim   Alguns   Tailandes    Sim\n",
       "11         Sim     Sim    Cheio    Italiano    Sim"
      ],
      "text/html": "<div>\n<style scoped>\n    .dataframe tbody tr th:only-of-type {\n        vertical-align: middle;\n    }\n\n    .dataframe tbody tr th {\n        vertical-align: top;\n    }\n\n    .dataframe thead th {\n        text-align: right;\n    }\n</style>\n<table border=\"1\" class=\"dataframe\">\n  <thead>\n    <tr style=\"text-align: right;\">\n      <th></th>\n      <th>SextaSabado</th>\n      <th>Faminto</th>\n      <th>Clientes</th>\n      <th>Tipo</th>\n      <th>Espera</th>\n    </tr>\n  </thead>\n  <tbody>\n    <tr>\n      <th>0</th>\n      <td>Nao</td>\n      <td>Sim</td>\n      <td>Cheio</td>\n      <td>Tailandes</td>\n      <td>Nao</td>\n    </tr>\n    <tr>\n      <th>1</th>\n      <td>Sim</td>\n      <td>Nao</td>\n      <td>Cheio</td>\n      <td>Frances</td>\n      <td>Nao</td>\n    </tr>\n    <tr>\n      <th>2</th>\n      <td>Nao</td>\n      <td>Nao</td>\n      <td>Nenhum</td>\n      <td>Italiano</td>\n      <td>Nao</td>\n    </tr>\n    <tr>\n      <th>3</th>\n      <td>Sim</td>\n      <td>Nao</td>\n      <td>Cheio</td>\n      <td>Hamburguer</td>\n      <td>Nao</td>\n    </tr>\n    <tr>\n      <th>4</th>\n      <td>Sim</td>\n      <td>Sim</td>\n      <td>Cheio</td>\n      <td>Frances</td>\n      <td>Nao</td>\n    </tr>\n    <tr>\n      <th>5</th>\n      <td>Nao</td>\n      <td>Nao</td>\n      <td>Nenhum</td>\n      <td>Tailandes</td>\n      <td>Nao</td>\n    </tr>\n    <tr>\n      <th>6</th>\n      <td>Sim</td>\n      <td>Sim</td>\n      <td>Alguns</td>\n      <td>Frances</td>\n      <td>Sim</td>\n    </tr>\n    <tr>\n      <th>7</th>\n      <td>Nao</td>\n      <td>Nao</td>\n      <td>Alguns</td>\n      <td>Hamburguer</td>\n      <td>Sim</td>\n    </tr>\n    <tr>\n      <th>8</th>\n      <td>Sim</td>\n      <td>Sim</td>\n      <td>Cheio</td>\n      <td>Tailandes</td>\n      <td>Sim</td>\n    </tr>\n    <tr>\n      <th>9</th>\n      <td>Nao</td>\n      <td>Sim</td>\n      <td>Alguns</td>\n      <td>Italiano</td>\n      <td>Sim</td>\n    </tr>\n    <tr>\n      <th>10</th>\n      <td>Nao</td>\n      <td>Sim</td>\n      <td>Alguns</td>\n      <td>Tailandes</td>\n      <td>Sim</td>\n    </tr>\n    <tr>\n      <th>11</th>\n      <td>Sim</td>\n      <td>Sim</td>\n      <td>Cheio</td>\n      <td>Italiano</td>\n      <td>Sim</td>\n    </tr>\n  </tbody>\n</table>\n</div>"
     },
     "metadata": {},
     "execution_count": 8
    }
   ],
   "source": [
    "df = pd.read_csv('classificacao.csv', delimiter=';')\n",
    "df"
   ]
  },
  {
   "cell_type": "code",
   "execution_count": 36,
   "metadata": {},
   "outputs": [],
   "source": [
    "B, C = df[::2], df[1::2]"
   ]
  },
  {
   "cell_type": "code",
   "execution_count": 40,
   "metadata": {},
   "outputs": [
    {
     "output_type": "stream",
     "name": "stdout",
     "text": [
      "[0 0 0 1 1 1]\n"
     ]
    }
   ],
   "source": [
    "# Import LabelEncoder\n",
    "from sklearn import preprocessing\n",
    "#creating labelEncoder\n",
    "le = preprocessing.LabelEncoder()\n",
    "# Converting string labels into numbers.\n",
    "y_train=le.fit_transform(B.Espera)\n",
    "y_test=le.fit_transform(C.Espera)\n",
    "print(y_train)"
   ]
  },
  {
   "cell_type": "code",
   "execution_count": 38,
   "metadata": {},
   "outputs": [
    {
     "output_type": "execute_result",
     "data": {
      "text/plain": [
       "[(0, 1, 1, 2),\n",
       " (0, 0, 2, 1),\n",
       " (1, 1, 1, 0),\n",
       " (1, 1, 0, 0),\n",
       " (1, 1, 1, 2),\n",
       " (0, 1, 0, 2)]"
      ]
     },
     "metadata": {},
     "execution_count": 38
    }
   ],
   "source": [
    "k1=le.fit_transform(B.SextaSabado)\n",
    "k2=le.fit_transform(B.Faminto)\n",
    "k3=le.fit_transform(B.Clientes)\n",
    "k4=le.fit_transform(B.Tipo)\n",
    "\n",
    "x_train=list(zip(k1,k2,k3,k4))\n",
    "x_train"
   ]
  },
  {
   "cell_type": "code",
   "execution_count": 39,
   "metadata": {},
   "outputs": [
    {
     "output_type": "execute_result",
     "data": {
      "text/plain": [
       "[(1, 0, 1, 0),\n",
       " (1, 0, 1, 1),\n",
       " (0, 0, 2, 3),\n",
       " (0, 0, 0, 1),\n",
       " (0, 1, 0, 2),\n",
       " (1, 1, 1, 2)]"
      ]
     },
     "metadata": {},
     "execution_count": 39
    }
   ],
   "source": [
    "k1=le.fit_transform(C.SextaSabado)\n",
    "k2=le.fit_transform(C.Faminto)\n",
    "k3=le.fit_transform(C.Clientes)\n",
    "k4=le.fit_transform(C.Tipo)\n",
    "\n",
    "x_test=list(zip(k1,k2,k3,k4))\n",
    "x_test"
   ]
  },
  {
   "cell_type": "code",
   "execution_count": 35,
   "metadata": {},
   "outputs": [
    {
     "output_type": "stream",
     "name": "stdout",
     "text": [
      "[1]\n"
     ]
    }
   ],
   "source": [
    "from sklearn.neighbors import KNeighborsClassifier\n",
    "\n",
    "model = KNeighborsClassifier(n_neighbors=3)\n",
    "\n",
    "# Train the model using the training sets\n",
    "model.fit(features,label)\n",
    "\n",
    "#Predict Output\n",
    "predicted= model.predict([[1,1,0,2]]) # 0:Overcast, 2:Mild\n",
    "print(predicted)"
   ]
  },
  {
   "cell_type": "code",
   "execution_count": null,
   "metadata": {},
   "outputs": [],
   "source": []
  },
  {
   "cell_type": "code",
   "execution_count": null,
   "metadata": {},
   "outputs": [],
   "source": []
  },
  {
   "cell_type": "code",
   "execution_count": 42,
   "metadata": {},
   "outputs": [],
   "source": [
    "#Import knearest neighbors Classifier model\n",
    "from sklearn.neighbors import KNeighborsClassifier\n",
    "\n",
    "#Create KNN Classifier\n",
    "knn = KNeighborsClassifier(n_neighbors=5)\n",
    "\n",
    "#Train the model using the training sets\n",
    "knn.fit(x_train, y_train)\n",
    "\n",
    "#Predict the response for test dataset\n",
    "y_pred = knn.predict(x_test)"
   ]
  },
  {
   "cell_type": "code",
   "execution_count": 48,
   "metadata": {},
   "outputs": [
    {
     "output_type": "stream",
     "name": "stdout",
     "text": [
      "0.8333333333333334\n"
     ]
    }
   ],
   "source": [
    "from sklearn.neighbors import KNeighborsClassifier\n",
    "from sklearn import metrics\n",
    "print(metrics.accuracy_score(y_test, y_pred))"
   ]
  },
  {
   "cell_type": "code",
   "execution_count": 49,
   "metadata": {},
   "outputs": [
    {
     "output_type": "stream",
     "name": "stdout",
     "text": [
      "[0 0 0 1 1 1] [0 0 0 1 1 0]\n"
     ]
    }
   ],
   "source": [
    "print(y_test, y_pred)"
   ]
  },
  {
   "cell_type": "code",
   "execution_count": null,
   "metadata": {},
   "outputs": [],
   "source": []
  }
 ]
}